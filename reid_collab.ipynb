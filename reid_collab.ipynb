{
  "cells": [
    {
      "cell_type": "code",
      "source": [
        "!nvidia-smi"
      ],
      "metadata": {
        "colab": {
          "base_uri": "https://localhost:8080/"
        },
        "id": "qopdZdDOiUwd",
        "executionInfo": {
          "status": "ok",
          "timestamp": 1685326013806,
          "user_tz": -480,
          "elapsed": 11,
          "user": {
            "displayName": "Vishesh Arora",
            "userId": "03641027679675836287"
          }
        },
        "outputId": "72adc81e-5937-46d3-a23a-faf1f8aeeac0",
        "noteable": {
          "output_collection_id": "567f02a0-56ce-431b-99dd-ef840c3d81e9"
        }
      },
      "id": "qopdZdDOiUwd",
      "execution_count": 1,
      "outputs": []
    },
    {
      "cell_type": "code",
      "source": [
        "from google.colab import drive\n",
        "drive.mount('/content/drive')"
      ],
      "metadata": {
        "colab": {
          "base_uri": "https://localhost:8080/"
        },
        "id": "3ZhlvMsZico4",
        "executionInfo": {
          "status": "ok",
          "timestamp": 1685326032843,
          "user_tz": -480,
          "elapsed": 19041,
          "user": {
            "displayName": "Vishesh Arora",
            "userId": "03641027679675836287"
          }
        },
        "outputId": "8076cb86-4565-4d57-abcc-dbfbd10f5509",
        "noteable": {
          "output_collection_id": "a862b958-6482-47ff-9509-ebc209de4a02"
        }
      },
      "id": "3ZhlvMsZico4",
      "execution_count": 2,
      "outputs": []
    },
    {
      "cell_type": "code",
      "source": [
        "!ls"
      ],
      "metadata": {
        "colab": {
          "base_uri": "https://localhost:8080/"
        },
        "id": "d2kkdl2zi5s-",
        "executionInfo": {
          "status": "ok",
          "timestamp": 1685326033411,
          "user_tz": -480,
          "elapsed": 573,
          "user": {
            "displayName": "Vishesh Arora",
            "userId": "03641027679675836287"
          }
        },
        "outputId": "d1aa3a20-e570-410c-a5d1-b2ba7fe5be3e",
        "noteable": {
          "output_collection_id": "53b15866-9215-403e-854b-9eb7a86b27f2"
        }
      },
      "id": "d2kkdl2zi5s-",
      "execution_count": 3,
      "outputs": []
    },
    {
      "cell_type": "code",
      "source": [
        "cd '/content'"
      ],
      "metadata": {
        "colab": {
          "base_uri": "https://localhost:8080/"
        },
        "id": "3D208lJdc7-t",
        "executionInfo": {
          "status": "ok",
          "timestamp": 1685326033412,
          "user_tz": -480,
          "elapsed": 3,
          "user": {
            "displayName": "Vishesh Arora",
            "userId": "03641027679675836287"
          }
        },
        "outputId": "8feb286a-de51-4b13-e14c-8cc0fc045e16",
        "noteable": {
          "output_collection_id": "843207d0-0605-4719-84f1-02c9105b897f"
        }
      },
      "id": "3D208lJdc7-t",
      "execution_count": 4,
      "outputs": []
    },
    {
      "cell_type": "code",
      "source": [
        "!unzip \"drive/MyDrive/Novice/CV/Train.zip\" -d \"train_images\"\n",
        "\n",
        "!unzip \"drive/MyDrive/Novice/CV/train_labels.zip\" -d \"train_labels\"\n",
        "\n",
        "!unzip \"drive/MyDrive/Novice/CV/Validation.zip\" -d \"val_images\"\n",
        "\n",
        "!unzip \"drive/MyDrive/Novice/CV/val_labels.zip\" -d \"val_labels\"\n",
        "\n",
        "!unzip \"drive/MyDrive/Novice/CV/Test.zip\" -d \"test_images\"\n",
        "\n",
        "!unzip \"drive/MyDrive/Novice/CV/suspects.zip\" -d \"suspects\""
      ],
      "metadata": {
        "id": "oyYhrPHpmeel",
        "colab": {
          "base_uri": "https://localhost:8080/"
        },
        "executionInfo": {
          "status": "ok",
          "timestamp": 1685326123353,
          "user_tz": -480,
          "elapsed": 89943,
          "user": {
            "displayName": "Vishesh Arora",
            "userId": "03641027679675836287"
          }
        },
        "outputId": "1573dee4-e8e5-4ca0-a11b-c0e85e5bf207",
        "noteable": {
          "output_collection_id": "280c1333-a8b9-4b25-beca-3c66bdd58464"
        },
        "jupyter": {
          "outputs_hidden": true
        }
      },
      "id": "oyYhrPHpmeel",
      "execution_count": 5,
      "outputs": []
    },
    {
      "cell_type": "code",
      "execution_count": 6,
      "id": "4242442f",
      "metadata": {
        "scrolled": true,
        "id": "4242442f",
        "executionInfo": {
          "status": "ok",
          "timestamp": 1685326123353,
          "user_tz": -480,
          "elapsed": 3,
          "user": {
            "displayName": "Vishesh Arora",
            "userId": "03641027679675836287"
          }
        }
      },
      "outputs": [],
      "source": [
        "train_images_path = '/content/train_images'\n",
        "train_labels_path = '/content/train_labels'\n",
        "val_images_path = '/content/val_images'\n",
        "val_labels_path = '/content/val_labels'"
      ]
    },
    {
      "cell_type": "code",
      "execution_count": 7,
      "id": "447ef3d3-5633-4e42-8338-d5548b9a2be8",
      "metadata": {
        "ExecuteTime": {
          "end_time": "2023-05-27T06:32:23.742953+00:00",
          "start_time": "2023-05-27T06:32:21.720327+00:00"
        },
        "jupyter": {
          "outputs_hidden": false,
          "source_hidden": false
        },
        "noteable": {
          "cell_type": "code"
        },
        "scrolled": true,
        "id": "447ef3d3-5633-4e42-8338-d5548b9a2be8",
        "executionInfo": {
          "status": "ok",
          "timestamp": 1685326123921,
          "user_tz": -480,
          "elapsed": 570,
          "user": {
            "displayName": "Vishesh Arora",
            "userId": "03641027679675836287"
          }
        }
      },
      "outputs": [],
      "source": [
        "import cv2\n",
        "import os\n",
        "import matplotlib.pyplot as plt\n",
        "import numpy as np"
      ]
    },
    {
      "cell_type": "code",
      "execution_count": 8,
      "id": "3e61e4b7-b6b2-4c6b-9410-be08d359d9e2",
      "metadata": {
        "ExecuteTime": {
          "end_time": "2023-05-27T06:32:24.746973+00:00",
          "start_time": "2023-05-27T06:32:24.588152+00:00"
        },
        "jupyter": {
          "outputs_hidden": false,
          "source_hidden": false
        },
        "noteable": {
          "cell_type": "code"
        },
        "scrolled": true,
        "id": "3e61e4b7-b6b2-4c6b-9410-be08d359d9e2",
        "executionInfo": {
          "status": "ok",
          "timestamp": 1685326123921,
          "user_tz": -480,
          "elapsed": 4,
          "user": {
            "displayName": "Vishesh Arora",
            "userId": "03641027679675836287"
          }
        }
      },
      "outputs": [],
      "source": [
        "import os\n",
        "\n",
        "train_crops_path = \"train_crops\"\n",
        "num_plushies = 200\n",
        "os.mkdir(train_crops_path)\n",
        "\n",
        "for i in range(num_plushies):\n",
        "    os.mkdir(os.path.join(train_crops_path, str(i)))"
      ]
    },
    {
      "cell_type": "code",
      "execution_count": 9,
      "id": "4f20bf6c-08d8-49f9-802d-caa2ae0a1c1f",
      "metadata": {
        "ExecuteTime": {
          "end_time": "2023-05-27T06:32:24.906286+00:00",
          "start_time": "2023-05-27T06:32:24.751827+00:00"
        },
        "jupyter": {
          "outputs_hidden": false,
          "source_hidden": false
        },
        "noteable": {
          "cell_type": "code"
        },
        "scrolled": true,
        "id": "4f20bf6c-08d8-49f9-802d-caa2ae0a1c1f",
        "executionInfo": {
          "status": "ok",
          "timestamp": 1685326123922,
          "user_tz": -480,
          "elapsed": 4,
          "user": {
            "displayName": "Vishesh Arora",
            "userId": "03641027679675836287"
          }
        }
      },
      "outputs": [],
      "source": [
        "val_crops_path = \"val_crops\"\n",
        "num_plushies = 10\n",
        "os.mkdir(val_crops_path)\n",
        "\n",
        "for i in range(num_plushies):\n",
        "    os.mkdir(os.path.join(val_crops_path, str(i)))"
      ]
    },
    {
      "cell_type": "code",
      "execution_count": 10,
      "id": "7b9cbf99-f1cb-4e41-8c0c-09d325ce58c3",
      "metadata": {
        "ExecuteTime": {
          "end_time": "2023-05-27T06:34:41.764256+00:00",
          "start_time": "2023-05-27T06:32:24.910936+00:00"
        },
        "jupyter": {
          "outputs_hidden": true,
          "source_hidden": false
        },
        "noteable": {
          "cell_type": "code"
        },
        "scrolled": true,
        "id": "7b9cbf99-f1cb-4e41-8c0c-09d325ce58c3",
        "executionInfo": {
          "status": "ok",
          "timestamp": 1685326274779,
          "user_tz": -480,
          "elapsed": 150861,
          "user": {
            "displayName": "Vishesh Arora",
            "userId": "03641027679675836287"
          }
        }
      },
      "outputs": [],
      "source": [
        "import cv2\n",
        "import numpy as np\n",
        "import pandas as pd\n",
        "import os\n",
        "\n",
        "images_path = train_images_path\n",
        "labels_path = train_labels_path\n",
        "annotated_images_path = train_crops_path\n",
        "\n",
        "\n",
        "for label_name in os.listdir(labels_path):\n",
        "    if label_name[-4:] != \".txt\":\n",
        "        continue\n",
        "    image_name = label_name[:-4] + \".png\"\n",
        "    # print(\"Checking\", image_name)\n",
        "\n",
        "    image_path = os.path.join(images_path, image_name)\n",
        "    label_path = os.path.join(labels_path, label_name)\n",
        "\n",
        "    df = pd.read_csv(label_path, delim_whitespace=True, header=None)\n",
        "    df.columns = [\"cat\", \"xc\", \"yc\", \"w\", \"h\"]\n",
        "\n",
        "    img = cv2.imread(image_path)\n",
        "    img_h, img_w = img.shape[:2]\n",
        "\n",
        "    for i in range(df.shape[0]):\n",
        "        bb = df.iloc[i]\n",
        "        cat = str(int(bb[\"cat\"]))\n",
        "        tl = (int((bb[\"xc\"] - bb[\"w\"]/2) * img_w), int((bb[\"yc\"] - bb[\"h\"]/2) * img_h))\n",
        "        br = (int((bb[\"xc\"] + bb[\"w\"]/2) * img_w), int((bb[\"yc\"] + bb[\"h\"]/2) * img_h))\n",
        "\n",
        "        cropped_img = img[tl[1]:br[1], tl[0]:br[0]]\n",
        "        annotated_img_name = f\"{cat}_{len(os.listdir(os.path.join(annotated_images_path, cat)))}.png\"\n",
        "        cv2.imwrite(os.path.join(annotated_images_path, cat, annotated_img_name), cropped_img)\n"
      ]
    },
    {
      "cell_type": "code",
      "execution_count": 11,
      "id": "36c1f6c3-f5fc-4007-aa30-36af6bb15aa4",
      "metadata": {
        "ExecuteTime": {
          "end_time": "2023-05-27T06:35:00.615721+00:00",
          "start_time": "2023-05-27T06:34:41.773843+00:00"
        },
        "jupyter": {
          "outputs_hidden": true,
          "source_hidden": false
        },
        "noteable": {
          "cell_type": "code"
        },
        "scrolled": true,
        "id": "36c1f6c3-f5fc-4007-aa30-36af6bb15aa4",
        "executionInfo": {
          "status": "ok",
          "timestamp": 1685326294992,
          "user_tz": -480,
          "elapsed": 20216,
          "user": {
            "displayName": "Vishesh Arora",
            "userId": "03641027679675836287"
          }
        }
      },
      "outputs": [],
      "source": [
        "import cv2\n",
        "import numpy as np\n",
        "import pandas as pd\n",
        "import os\n",
        "\n",
        "images_path = val_images_path\n",
        "labels_path = val_labels_path\n",
        "annotated_images_path = val_crops_path\n",
        "\n",
        "\n",
        "for label_name in os.listdir(labels_path):\n",
        "    if label_name[-4:] != \".txt\":\n",
        "        continue\n",
        "    image_name = label_name[:-4] + \".png\"\n",
        "#     print(\"Checking\", image_name)\n",
        "\n",
        "    image_path = os.path.join(images_path, image_name)\n",
        "    label_path = os.path.join(labels_path, label_name)\n",
        "\n",
        "    df = pd.read_csv(label_path, delim_whitespace=True, header=None)\n",
        "    df.columns = [\"cat\", \"xc\", \"yc\", \"w\", \"h\"]\n",
        "\n",
        "    img = cv2.imread(image_path)\n",
        "    img_h, img_w = img.shape[:2]\n",
        "\n",
        "    for i in range(df.shape[0]):\n",
        "        bb = df.iloc[i]\n",
        "        cat = str(int(bb[\"cat\"]))\n",
        "        tl = (int((bb[\"xc\"] - bb[\"w\"]/2) * img_w), int((bb[\"yc\"] - bb[\"h\"]/2) * img_h))\n",
        "        br = (int((bb[\"xc\"] + bb[\"w\"]/2) * img_w), int((bb[\"yc\"] + bb[\"h\"]/2) * img_h))\n",
        "\n",
        "        cropped_img = img[tl[1]:br[1], tl[0]:br[0]]\n",
        "        annotated_img_name = f\"{cat}_{len(os.listdir(os.path.join(annotated_images_path, cat)))}.png\"\n",
        "        cv2.imwrite(os.path.join(annotated_images_path, cat, annotated_img_name), cropped_img)\n"
      ]
    },
    {
      "cell_type": "code",
      "execution_count": 12,
      "id": "3f9101f9-54ac-466f-828e-c6e86b122834",
      "metadata": {
        "ExecuteTime": {
          "end_time": "2023-05-27T06:35:01.038225+00:00",
          "start_time": "2023-05-27T06:35:00.621233+00:00"
        },
        "jupyter": {
          "outputs_hidden": false,
          "source_hidden": false
        },
        "noteable": {
          "cell_type": "code",
          "output_collection_id": "0a5a0c94-a954-436e-bd03-5335d5ae4772"
        },
        "scrolled": true,
        "id": "3f9101f9-54ac-466f-828e-c6e86b122834",
        "outputId": "e4282d1c-dad8-44b8-aaa8-94214622120f",
        "colab": {
          "base_uri": "https://localhost:8080/",
          "height": 451
        },
        "executionInfo": {
          "status": "ok",
          "timestamp": 1685326296133,
          "user_tz": -480,
          "elapsed": 1146,
          "user": {
            "displayName": "Vishesh Arora",
            "userId": "03641027679675836287"
          }
        }
      },
      "outputs": [],
      "source": [
        "image = cv2.imread(f'{train_crops_path}/0/0_21.png')\n",
        "plt.imshow(image)"
      ]
    },
    {
      "cell_type": "code",
      "execution_count": 13,
      "id": "8bb56f3d-5b20-4dd7-8b81-0804600ac5ae",
      "metadata": {
        "ExecuteTime": {
          "end_time": "2023-05-27T06:45:59.971639+00:00",
          "start_time": "2023-05-27T06:45:59.646716+00:00"
        },
        "jupyter": {
          "outputs_hidden": true,
          "source_hidden": false
        },
        "noteable": {
          "cell_type": "code",
          "output_collection_id": "34c48325-5c0a-49c1-b77a-f00ead43a60f"
        },
        "scrolled": false,
        "id": "8bb56f3d-5b20-4dd7-8b81-0804600ac5ae",
        "outputId": "ece13618-0d9d-4f82-ab7b-6a2f6d5f5253",
        "colab": {
          "base_uri": "https://localhost:8080/"
        },
        "executionInfo": {
          "status": "ok",
          "timestamp": 1685326296134,
          "user_tz": -480,
          "elapsed": 16,
          "user": {
            "displayName": "Vishesh Arora",
            "userId": "03641027679675836287"
          }
        }
      },
      "outputs": [],
      "source": [
        "import os\n",
        "import random\n",
        "\n",
        "counts = {}\n",
        "\n",
        "crops_path = train_crops_path\n",
        "num_plushies = 200\n",
        "\n",
        "for i in range(num_plushies):\n",
        "    counts[i] = len(os.listdir(os.path.join(crops_path, str(i))))\n",
        "print(counts)\n",
        "\n",
        "lines = []\n",
        "\n",
        "def add_match(plushie, num1, num2):\n",
        "    line = f\"{plushie} {num1} {num2}\\n\"\n",
        "    lines.append(line)\n",
        "\n",
        "def add_mismatch(plushie1, num1, plushie2, num2):\n",
        "    line = f\"{plushie1} {num1} {plushie2} {num2}\\n\"\n",
        "    lines.append(line)\n",
        "\n",
        "len_data = 4000\n",
        "\n",
        "for i in range(len_data):\n",
        "    # print(i)\n",
        "    plushie = random.choice(list(counts.keys()))\n",
        "\n",
        "    num1, num2 = random.randrange(counts[plushie]), random.randrange(counts[plushie])\n",
        "\n",
        "    while not (os.path.exists(f\"{crops_path}/{plushie}/{plushie}_{num1}.png\") and os.path.exists(f\"{crops_path}/{plushie}/{plushie}_{num2}.png\")):\n",
        "        print(num1, num2, plushie)\n",
        "        num1, num2 = random.randrange(counts[plushie]), random.randrange(counts[plushie])\n",
        "    \n",
        "    add_match(plushie, num1, num2)\n",
        "\n",
        "for i in range(len_data):\n",
        "    # print(i)\n",
        "    plushie1, plushie2 = random.choice(list(counts.keys())), random.choice(list(counts.keys()))\n",
        "    while plushie1 == plushie2:\n",
        "        plushie1, plushie2 = random.choice(list(counts.keys())), random.choice(list(counts.keys()))\n",
        "\n",
        "    num1, num2 = random.randrange(counts[plushie1]), random.randrange(counts[plushie2])\n",
        "                              \n",
        "                              \n",
        "    while not (os.path.exists(f\"{crops_path}/{plushie1}/{plushie1}_{num1}.png\") and os.path.exists(f\"{crops_path}/{plushie2}/{plushie2}_{num2}.png\")):\n",
        "        num1, num2 = random.randrange(counts[plushie1]), random.randrange(counts[plushie2])\n",
        "\n",
        "    add_mismatch(plushie1, num1, plushie2, num2)\n",
        "\n",
        "\n",
        "f = open(\"plushie_pairs_train.txt\", \"a\")\n",
        "f.writelines(lines)\n",
        "f.close()"
      ]
    },
    {
      "cell_type": "code",
      "execution_count": 14,
      "id": "0c96ee6a-4912-408c-b4bc-a2541a874049",
      "metadata": {
        "ExecuteTime": {
          "end_time": "2023-05-27T06:46:00.382694+00:00",
          "start_time": "2023-05-27T06:46:00.207054+00:00"
        },
        "jupyter": {
          "outputs_hidden": true,
          "source_hidden": false
        },
        "noteable": {
          "cell_type": "code",
          "output_collection_id": "d1aa7b8d-3a01-4d92-b6de-7f74e797315a"
        },
        "scrolled": false,
        "id": "0c96ee6a-4912-408c-b4bc-a2541a874049",
        "outputId": "4176f145-47bf-4527-c1d6-ce8f9fcb88d0",
        "colab": {
          "base_uri": "https://localhost:8080/"
        },
        "executionInfo": {
          "status": "ok",
          "timestamp": 1685326296134,
          "user_tz": -480,
          "elapsed": 14,
          "user": {
            "displayName": "Vishesh Arora",
            "userId": "03641027679675836287"
          }
        }
      },
      "outputs": [],
      "source": [
        "import os\n",
        "import random\n",
        "\n",
        "counts = {}\n",
        "\n",
        "crops_path = val_crops_path\n",
        "num_plushies = 10\n",
        "\n",
        "for i in range(num_plushies):\n",
        "    counts[i] = len(os.listdir(os.path.join(crops_path, str(i))))\n",
        "print(counts)\n",
        "\n",
        "lines = []\n",
        "\n",
        "def add_match(plushie, num1, num2):\n",
        "    line = f\"{plushie} {num1} {num2}\\n\"\n",
        "    lines.append(line)\n",
        "\n",
        "def add_mismatch(plushie1, num1, plushie2, num2):\n",
        "    line = f\"{plushie1} {num1} {plushie2} {num2}\\n\"\n",
        "    lines.append(line)\n",
        "\n",
        "len_data = 400\n",
        "\n",
        "for i in range(len_data):\n",
        "    # print(i)\n",
        "    plushie = random.choice(list(counts.keys()))\n",
        "\n",
        "    num1, num2 = random.randrange(counts[plushie]), random.randrange(counts[plushie])\n",
        "\n",
        "    while not (os.path.exists(f\"{crops_path}/{plushie}/{plushie}_{num1}.png\") and os.path.exists(f\"{crops_path}/{plushie}/{plushie}_{num2}.png\")):\n",
        "        print(num1, num2, plushie)\n",
        "        num1, num2 = random.randrange(counts[plushie]), random.randrange(counts[plushie])\n",
        "    \n",
        "    add_match(plushie, num1, num2)\n",
        "\n",
        "for i in range(len_data):\n",
        "    # print(i)\n",
        "    plushie1, plushie2 = random.choice(list(counts.keys())), random.choice(list(counts.keys()))\n",
        "    while plushie1 == plushie2:\n",
        "        plushie1, plushie2 = random.choice(list(counts.keys())), random.choice(list(counts.keys()))\n",
        "\n",
        "    num1, num2 = random.randrange(counts[plushie1]), random.randrange(counts[plushie2])\n",
        "                              \n",
        "                              \n",
        "    while not (os.path.exists(f\"{crops_path}/{plushie1}/{plushie1}_{num1}.png\") and os.path.exists(f\"{crops_path}/{plushie2}/{plushie2}_{num2}.png\")):\n",
        "        num1, num2 = random.randrange(counts[plushie1]), random.randrange(counts[plushie2])\n",
        "\n",
        "    add_mismatch(plushie1, num1, plushie2, num2)\n",
        "\n",
        "\n",
        "f = open(\"plushie_pairs_val.txt\", \"a\")\n",
        "f.writelines(lines)\n",
        "f.close()"
      ]
    },
    {
      "cell_type": "code",
      "execution_count": 15,
      "id": "41a3a7f1-5ad9-435d-82c3-6c45a4f8b2b3",
      "metadata": {
        "ExecuteTime": {
          "end_time": "2023-05-27T06:35:09.330471+00:00",
          "start_time": "2023-05-27T06:35:05.236864+00:00"
        },
        "jupyter": {
          "outputs_hidden": false,
          "source_hidden": false
        },
        "noteable": {
          "cell_type": "code"
        },
        "scrolled": true,
        "id": "41a3a7f1-5ad9-435d-82c3-6c45a4f8b2b3",
        "executionInfo": {
          "status": "ok",
          "timestamp": 1685326299776,
          "user_tz": -480,
          "elapsed": 3654,
          "user": {
            "displayName": "Vishesh Arora",
            "userId": "03641027679675836287"
          }
        }
      },
      "outputs": [],
      "source": [
        "import torch\n",
        "import matplotlib.pyplot as plt\n",
        "\n",
        "def get_default_device():\n",
        "    if torch.cuda.is_available():\n",
        "        return torch.device('cuda')\n",
        "    else:\n",
        "        return torch.device('cpu')\n",
        "    \n",
        "    \n",
        "def to_device(data, device):\n",
        "    if isinstance(data, (list, tuple)):\n",
        "        return [to_device(x, device) for x in data]\n",
        "    return data.to(device, non_blocking=True)\n",
        "\n",
        "def show_img(img1, img2):\n",
        "    axs = plt.figure(figsize=(9, 9)).subplots(1, 2)\n",
        "    axs[0].imshow(img1)\n",
        "    axs[1].imshow(img2)\n",
        "\n",
        "\n",
        "def accuracy(preds, labels):\n",
        "    preds = torch.flatten(preds)\n",
        "    preds[preds > 0] = 1\n",
        "    preds[preds < 0] = 0\n",
        "    return torch.sum(preds == labels).item() / len(labels)\n",
        "\n",
        "\n",
        "class DeviceDataLoader():\n",
        "    def __init__(self, dl, device):\n",
        "        self.dl = dl\n",
        "        self.device = device\n",
        "    \n",
        "    def __iter__(self):\n",
        "        for batch in self.dl:\n",
        "            yield to_device(batch, self.device)\n",
        "    \n",
        "    def __len__(self):\n",
        "        return len(self.dl)"
      ]
    },
    {
      "cell_type": "code",
      "execution_count": 16,
      "id": "71d1f11c-1224-4adc-8e80-34cc168a6d66",
      "metadata": {
        "ExecuteTime": {
          "end_time": "2023-05-27T06:35:09.808349+00:00",
          "start_time": "2023-05-27T06:35:09.342982+00:00"
        },
        "jupyter": {
          "outputs_hidden": false,
          "source_hidden": false
        },
        "noteable": {
          "cell_type": "code"
        },
        "scrolled": true,
        "id": "71d1f11c-1224-4adc-8e80-34cc168a6d66",
        "executionInfo": {
          "status": "ok",
          "timestamp": 1685326300320,
          "user_tz": -480,
          "elapsed": 559,
          "user": {
            "displayName": "Vishesh Arora",
            "userId": "03641027679675836287"
          }
        }
      },
      "outputs": [],
      "source": [
        "import torchvision.transforms as tt\n",
        "import cv2\n",
        "\n",
        "class BGR2RGB:\n",
        "    def __call__(self, image):\n",
        "        return cv2.cvtColor(image, cv2.COLOR_BGR2RGB)\n",
        "\n",
        "class SquarePad:\n",
        "    def __call__(self, image):\n",
        "        max_wh = max(image.shape[:2])\n",
        "        p_left, p_top = [(max_wh - s) // 2 for s in image.shape[:2]]\n",
        "        p_right, p_bottom = [max_wh - (s+pad) for s, pad in zip(image.shape[:2], [p_left, p_top])]\n",
        "        return cv2.copyMakeBorder(image, p_top, p_bottom, p_left, p_right, cv2.BORDER_CONSTANT, None, value = 0)\n",
        "\n",
        "\n",
        "class Resize():\n",
        "    def __init__(self, output_size=(128, 128)):\n",
        "        assert isinstance(output_size, (tuple))\n",
        "        self.output_size = output_size\n",
        "\n",
        "    def __call__(self, image):\n",
        "        return cv2.resize(image, self.output_size, interpolation = cv2.INTER_LINEAR)\n",
        "\n",
        "class Transforms:\n",
        "    def __init__(self):\n",
        "        self.transform = tt.Compose([BGR2RGB(), \n",
        "                        SquarePad(),\n",
        "                        Resize((128, 128)),\n",
        "                        tt.ToTensor(),\n",
        "                        tt.Normalize(0, 0.5)])\n",
        "\n",
        "    def __call__(self, image):\n",
        "        return self.transform(image)\n",
        "    "
      ]
    },
    {
      "cell_type": "code",
      "execution_count": 17,
      "id": "90d6e29e-d2b0-4459-83ae-1d253943b995",
      "metadata": {
        "ExecuteTime": {
          "end_time": "2023-05-27T06:35:10.177037+00:00",
          "start_time": "2023-05-27T06:35:10.011603+00:00"
        },
        "jupyter": {
          "outputs_hidden": false,
          "source_hidden": false
        },
        "noteable": {
          "cell_type": "code"
        },
        "scrolled": true,
        "id": "90d6e29e-d2b0-4459-83ae-1d253943b995",
        "executionInfo": {
          "status": "ok",
          "timestamp": 1685326300321,
          "user_tz": -480,
          "elapsed": 6,
          "user": {
            "displayName": "Vishesh Arora",
            "userId": "03641027679675836287"
          }
        }
      },
      "outputs": [],
      "source": [
        "from torchvision.models import resnet50, ResNet50_Weights\n",
        "from torch import cat\n",
        "import torch.nn as nn\n",
        "\n",
        "class SiameseNetwork(nn.Module):\n",
        "    \"\"\"\n",
        "        https://github.com/pytorch/examples/tree/main/siamese_network\n",
        "\n",
        "        BCE Loss\n",
        "    \"\"\"\n",
        "    def __init__(self):\n",
        "        super(SiameseNetwork, self).__init__()\n",
        "        self.resnet = resnet50(ResNet50_Weights.DEFAULT)\n",
        "\n",
        "        for ct, child in enumerate(self.resnet.children()):\n",
        "            if ct < 6:\n",
        "                for param in child.parameters():\n",
        "                    param.requires_grad = False\n",
        "\n",
        "\n",
        "        self.fc_in_features = self.resnet.fc.in_features\n",
        "        \n",
        "        # remove the last layer of resnet18 (linear layer which is before avgpool layer)\n",
        "        self.resnet = nn.Sequential(*(list(self.resnet.children())[:-1]))\n",
        "\n",
        "        # add linear layers to compare between the features of the two images\n",
        "        self.fc = nn.Sequential(\n",
        "            nn.Linear(self.fc_in_features * 2, 256),\n",
        "            nn.ReLU(inplace=True),\n",
        "            nn.Linear(256, 1),\n",
        "        )\n",
        "\n",
        "\n",
        "    def get_embeddings(self, x):\n",
        "        output = self.resnet(x)\n",
        "        output = output.view(output.size()[0], -1)\n",
        "        return output\n",
        "\n",
        "    def forward(self, input1, input2):\n",
        "        output1 = self.get_embeddings(input1)\n",
        "        output2 = self.get_embeddings(input2)\n",
        "        output = cat((output1, output2), 1)\n",
        "        output = self.fc(output)\n",
        "        \n",
        "        return output"
      ]
    },
    {
      "cell_type": "code",
      "execution_count": 18,
      "id": "b1e7ab9c-014b-4549-80fe-a93ed7a4d9e3",
      "metadata": {
        "ExecuteTime": {
          "end_time": "2023-05-27T06:37:42.923396+00:00",
          "start_time": "2023-05-27T06:37:42.762780+00:00"
        },
        "jupyter": {
          "outputs_hidden": false,
          "source_hidden": false
        },
        "noteable": {
          "cell_type": "code"
        },
        "scrolled": true,
        "id": "b1e7ab9c-014b-4549-80fe-a93ed7a4d9e3",
        "executionInfo": {
          "status": "ok",
          "timestamp": 1685326300321,
          "user_tz": -480,
          "elapsed": 6,
          "user": {
            "displayName": "Vishesh Arora",
            "userId": "03641027679675836287"
          }
        }
      },
      "outputs": [],
      "source": [
        "import os\n",
        "import matplotlib.pyplot as plt\n",
        "\n",
        "from PIL import Image\n",
        "import cv2\n",
        "\n",
        "from torch.utils.data import Dataset\n",
        "\n",
        "\n",
        "\n",
        "\n",
        "class PlushieTrainDataset(Dataset):\n",
        "    \n",
        "    def __init__(self, filepath, img_dir, transform=None):\n",
        "        self.samples = []\n",
        "        self.img_dir = img_dir\n",
        "        self.transform = transform\n",
        "\n",
        "        with open(filepath, 'r') as f:\n",
        "            self.samples = [line.strip() for line in f]\n",
        "\n",
        "    def __len__(self):\n",
        "        return len(self.samples)\n",
        "\n",
        "    def __getitem__(self, i):\n",
        "        line = self.samples[i].split()\n",
        "        if len(line) == 3:\n",
        "            anchor_name, anchor_num, img_num = line\n",
        "            img_name = anchor_name\n",
        "            is_same = 1\n",
        "        elif len(line) == 4:\n",
        "            anchor_name, anchor_num, img_name, img_num = line\n",
        "            is_same = 0\n",
        "        else:\n",
        "            print(len(line), line)\n",
        "            raise Exception(\"Shouldn't be here\")\n",
        "        \n",
        "        anchor = cv2.imread(os.path.join(self.img_dir, str(anchor_name), f\"{anchor_name}_{anchor_num}.png\"))\n",
        "        img = cv2.imread(os.path.join(self.img_dir, img_name, f\"{img_name}_{img_num}.png\"))\n",
        "        \n",
        "        if self.transform:\n",
        "            anchor = self.transform(anchor)\n",
        "            img = self.transform(img)\n",
        "\n",
        "        return anchor, img, is_same\n",
        "\n"
      ]
    },
    {
      "cell_type": "code",
      "execution_count": 25,
      "id": "803bc3dd-8e08-443e-b84a-29d326589a06",
      "metadata": {
        "ExecuteTime": {
          "end_time": "2023-05-27T07:04:05.796053+00:00",
          "start_time": "2023-05-27T06:46:09.283083+00:00"
        },
        "jupyter": {
          "outputs_hidden": false,
          "source_hidden": false
        },
        "noteable": {
          "cell_type": "code",
          "output_collection_id": "014f71c8-3673-4e76-ad4f-619002d7849d"
        },
        "scrolled": true,
        "id": "803bc3dd-8e08-443e-b84a-29d326589a06",
        "colab": {
          "base_uri": "https://localhost:8080/"
        },
        "executionInfo": {
          "status": "ok",
          "timestamp": 1685327448575,
          "user_tz": -480,
          "elapsed": 120819,
          "user": {
            "displayName": "Vishesh Arora",
            "userId": "03641027679675836287"
          }
        },
        "outputId": "6a462a3d-bc47-47e4-ba43-a915bb5fee87"
      },
      "outputs": [],
      "source": [
        "import numpy as np\n",
        "import torch\n",
        "\n",
        "\n",
        "\n",
        "def loss_batch(model, loss_func, anchor, image, label, opt=None, metric=None): # Update model weights and return metrics given xb, yb, model\n",
        "    preds = model(anchor, image)\n",
        "    loss = loss_func(preds, label.unsqueeze(1).float())\n",
        "    \n",
        "    if opt is not None:\n",
        "        loss.backward()\n",
        "        opt.step()\n",
        "        opt.zero_grad()\n",
        "        \n",
        "    metric_result = None\n",
        "    if metric is not None:\n",
        "        metric_result = metric(preds, label)\n",
        "        \n",
        "    return loss.item(), len(anchor), metric_result\n",
        "\n",
        "\n",
        "def fit(epochs, model, loss_func, train_dl, val_dl, opt_func=torch.optim.SGD, lr=0.01, metric=None):\n",
        "    train_losses, val_losses, val_metrics = [] , [], []\n",
        "    \n",
        "    opt = opt_func(model.parameters(), lr=lr)\n",
        "    \n",
        "    for epoch in range(1, epochs+1):\n",
        "        model.train() # Setting for pytorch - training mode\n",
        "        for anchor,image,label in train_dl:\n",
        "            train_loss, _, _ = loss_batch(model, loss_func, anchor, image, label, opt) # update weights\n",
        "            \n",
        "        model.eval() # Setting - eval mode\n",
        "        val_loss, total, val_metric = evaluate(model, loss_func, val_dl, metric)\n",
        "        \n",
        "        train_losses.append(train_loss)\n",
        "        val_losses.append(val_loss)\n",
        "        val_metrics.append(val_metric)\n",
        "        \n",
        "        if metric is None:\n",
        "            print(\"Epoch [{}], train_loss: {:.4f}, val_loss: {:.4f}\".format(\n",
        "            epoch, train_loss, val_loss))\n",
        "        else:\n",
        "            print(\"Epoch [{}], train_loss: {:.4f}, val_loss: {:.4f}, val_{}: {:.4f}\".format(\n",
        "            epoch, train_loss, val_loss, metric.__name__, val_metric))\n",
        "            \n",
        "    return train_losses, val_losses, val_metrics\n",
        "\n",
        "\n",
        "def evaluate(model, loss_func, val_dl, metric=None):\n",
        "    with torch.no_grad():\n",
        "        results = [loss_batch(model, loss_func, anchor, image, label, metric=metric) for anchor, image, label in val_dl]\n",
        "        \n",
        "        losses, nums, metrics = zip(*results)\n",
        "        total = np.sum(nums)\n",
        "        \n",
        "        avg_loss = np.sum(np.multiply(losses, nums)) / total\n",
        "        \n",
        "        avg_metric = None\n",
        "        if metric is not None:\n",
        "            avg_metric = np.sum(np.multiply(metrics, nums)) / total\n",
        "            \n",
        "        return avg_loss, total, avg_metric\n",
        "\n",
        "\n",
        "\n",
        "train_filepath = \"plushie_pairs_train.txt\"\n",
        "train_img_dir = train_crops_path\n",
        "val_filepath = \"plushie_pairs_val.txt\"\n",
        "val_img_dir = val_crops_path\n",
        "train_bs = 16\n",
        "test_bs = 8\n",
        "num_epochs = 1\n",
        "lr = 0.005\n",
        "\n",
        "torch.autograd.set_detect_anomaly(True)\n",
        "\n",
        "transform = Transforms()\n",
        "train_dataset = PlushieTrainDataset(filepath=train_filepath, img_dir=train_img_dir, transform=transform)\n",
        "valid_dataset = PlushieTrainDataset(filepath=val_filepath, img_dir=val_img_dir, transform=transform)\n",
        "network = SiameseNetwork()\n",
        "\n",
        "\n",
        "print(\"The length of Train set is {}\".format(len(train_dataset)))\n",
        "print(\"The length of Valid set is {}\".format(len(valid_dataset)))\n",
        "\n",
        "train_dl = torch.utils.data.DataLoader(train_dataset, batch_size=train_bs, shuffle=True, num_workers=4)\n",
        "val_dl = torch.utils.data.DataLoader(valid_dataset, batch_size=test_bs, shuffle=True, num_workers=4)\n",
        "\n",
        "device = get_default_device()\n",
        "train_dl = DeviceDataLoader(train_dl, device)\n",
        "val_dl = DeviceDataLoader(val_dl, device)\n",
        "to_device(network, device)\n",
        "\n",
        "criterion = torch.nn.BCEWithLogitsLoss()\n",
        "optimizer = torch.optim.Adam\n",
        "\n",
        "\n",
        "train_losses, val_losses, val_metrics = fit(num_epochs, network, criterion, \n",
        "                                        train_dl, val_dl, optimizer, lr, accuracy)\n",
        "\n",
        "torch.save(network.state_dict(), 'model2.pth')\n"
      ]
    },
    {
      "cell_type": "code",
      "execution_count": 20,
      "id": "27186b6f",
      "metadata": {
        "scrolled": true,
        "id": "27186b6f",
        "executionInfo": {
          "status": "ok",
          "timestamp": 1685326434622,
          "user_tz": -480,
          "elapsed": 16,
          "user": {
            "displayName": "Vishesh Arora",
            "userId": "03641027679675836287"
          }
        }
      },
      "outputs": [],
      "source": [
        "def predict_image(model, target, img, transform=None, device=torch.device('cpu')):\n",
        "    xb, xb2 = transform(target).unsqueeze(0), transform(img).unsqueeze(0) # Convert to batch of 1\n",
        "    model.eval()\n",
        "    yb = model(xb.to(device), xb2.to(device))\n",
        "    return yb\n"
      ]
    },
    {
      "cell_type": "code",
      "source": [
        "\n",
        "!git clone https://github.com/ultralytics/yolov5.git"
      ],
      "metadata": {
        "colab": {
          "base_uri": "https://localhost:8080/"
        },
        "id": "jygWMymfp_oY",
        "executionInfo": {
          "status": "ok",
          "timestamp": 1685326439050,
          "user_tz": -480,
          "elapsed": 4432,
          "user": {
            "displayName": "Vishesh Arora",
            "userId": "03641027679675836287"
          }
        },
        "outputId": "83c683ca-6a32-4903-c747-d04c44105b9c",
        "noteable": {
          "output_collection_id": "5fc0271e-1642-4713-9e6a-e16d2a7b95a7"
        }
      },
      "id": "jygWMymfp_oY",
      "execution_count": 21,
      "outputs": []
    },
    {
      "cell_type": "code",
      "source": [
        "!pip install -r yolov5/requirements.txt"
      ],
      "metadata": {
        "id": "ixn2vqEWqEMH",
        "executionInfo": {
          "status": "ok",
          "timestamp": 1685326444544,
          "user_tz": -480,
          "elapsed": 5496,
          "user": {
            "displayName": "Vishesh Arora",
            "userId": "03641027679675836287"
          }
        },
        "outputId": "d53e16d6-f727-4803-ce42-1bf2e671316b",
        "colab": {
          "base_uri": "https://localhost:8080/"
        },
        "noteable": {
          "output_collection_id": "b6d8ed94-5fcf-4908-bc28-8179d6438092"
        }
      },
      "id": "ixn2vqEWqEMH",
      "execution_count": 22,
      "outputs": []
    },
    {
      "cell_type": "code",
      "execution_count": 43,
      "id": "3ec1ddc4-5262-4f7d-bb46-0b1a98dd13e0",
      "metadata": {
        "jupyter": {
          "outputs_hidden": false,
          "source_hidden": false
        },
        "noteable": {
          "cell_type": "code",
          "output_collection_id": "cece8b7a-a7ec-49be-adf4-52ac55a86a18"
        },
        "scrolled": true,
        "id": "3ec1ddc4-5262-4f7d-bb46-0b1a98dd13e0",
        "outputId": "c25f0053-b815-4a21-df8b-3dd9aead6928",
        "colab": {
          "base_uri": "https://localhost:8080/"
        },
        "executionInfo": {
          "status": "ok",
          "timestamp": 1685331176520,
          "user_tz": -480,
          "elapsed": 8273,
          "user": {
            "displayName": "Vishesh Arora",
            "userId": "03641027679675836287"
          }
        }
      },
      "outputs": [],
      "source": [
        "import pandas as pd\n",
        "\n",
        "bb_ann = {\"Image_ID\": [], \"class\": [], \"confidence\": [], \"ymin\": [], \"xmin\": [], \n",
        "          \"ymax\": [], \"xmax\": []}\n",
        "\n",
        "\n",
        "yolo_repo_path = 'yolov5'\n",
        "yolo_model_path = '/content/drive/MyDrive/BH/best.pt'\n",
        "reid_model_path = \"/content/drive/MyDrive/BH/model.pth\"\n",
        "\n",
        "yolo_model = torch.hub.load(yolo_repo_path, 'custom', path=yolo_model_path, source='local')\n",
        "\n",
        "reid_model = SiameseNetwork()\n",
        "reid_model.load_state_dict(torch.load(reid_model_path, map_location=torch.device('cuda')))\n",
        "\n",
        "test_dir = \"test_images\"\n",
        "suspect_dir = \"suspects/content/drive/Shareddrives/ZINDI Data Science/ADPL/Competition Data/CV/Data Prep/Test (0-1599)/merged/crops\"\n",
        "\n",
        "reid_transforms = Transforms()\n",
        "\n",
        "def detect_objects(image_name):\n",
        "    image_path = os.path.join(test_dir, image_name)\n",
        "    suspect_path = os.path.join(suspect_dir, image_name)\n",
        "\n",
        "    img = cv2.imread(image_path)\n",
        "    suspect = cv2.imread(suspect_path)\n",
        "    \n",
        "    img_h, img_w = img.shape[:2]\n",
        "\n",
        "    # Perform object detection\n",
        "    results = yolo_model(img)\n",
        "\n",
        "    # Print the detected objects with their classes, confidence scores, and bounding box coordinates\n",
        "    for result in results.xyxy[0].tolist():\n",
        "        class_id = int(result[5])\n",
        "        confidence = result[4]\n",
        "        x1, y1, x2, y2 = result[:4]\n",
        "        plushie = img[int(y1):int(y2), int(x1):int(x2)]\n",
        "        match_confidence = float(predict_image(reid_model, suspect, plushie, transform=reid_transforms))\n",
        "        plushie_class = 1 if match_confidence > 0 else 0\n",
        "\n",
        "        bb_ann[\"Image_ID\"].append(image_name[:-4])\n",
        "        bb_ann[\"class\"].append(plushie_class) \n",
        "        bb_ann[\"confidence\"].append(confidence)\n",
        "        bb_ann[\"ymin\"].append(y1 / img_h)\n",
        "        bb_ann[\"xmin\"].append(x1 / img_w)\n",
        "        bb_ann[\"ymax\"].append(y2 / img_h)\n",
        "        bb_ann[\"xmax\"].append(x2 / img_w)\n",
        "        \n",
        "    if not results.xyxy[0].tolist():\n",
        "        bb_ann[\"Image_ID\"].append(image_name[:-4])\n",
        "        bb_ann[\"class\"].append(0) \n",
        "        bb_ann[\"confidence\"].append(0)\n",
        "        bb_ann[\"ymin\"].append(0)\n",
        "        bb_ann[\"xmin\"].append(0)\n",
        "        bb_ann[\"ymax\"].append(0)\n",
        "        bb_ann[\"xmax\"].append(0)\n",
        "\n",
        "\n",
        "\n",
        "for i, image_name in enumerate(os.listdir(test_dir)[:10]):\n",
        "    detect_objects(image_name)\n",
        "\n",
        "\n",
        "\n",
        "df = pd.DataFrame.from_dict(bb_ann)\n",
        "df.to_csv(\"results.csv\", index=False)"
      ]
    },
    {
      "cell_type": "code",
      "source": [
        "df.head(10)"
      ],
      "metadata": {
        "colab": {
          "base_uri": "https://localhost:8080/",
          "height": 363
        },
        "id": "Q6zrWe0iYHMx",
        "executionInfo": {
          "status": "ok",
          "timestamp": 1685331176521,
          "user_tz": -480,
          "elapsed": 6,
          "user": {
            "displayName": "Vishesh Arora",
            "userId": "03641027679675836287"
          }
        },
        "outputId": "33955199-69e3-41cb-9308-7c0e9ac84e4a",
        "noteable": {
          "output_collection_id": "43f1baca-ab67-4c10-bbe2-c959403490ab"
        }
      },
      "id": "Q6zrWe0iYHMx",
      "execution_count": 44,
      "outputs": []
    },
    {
      "cell_type": "code",
      "execution_count": 46,
      "id": "ff5049ce",
      "metadata": {
        "id": "ff5049ce",
        "colab": {
          "base_uri": "https://localhost:8080/"
        },
        "executionInfo": {
          "status": "ok",
          "timestamp": 1685331384491,
          "user_tz": -480,
          "elapsed": 340,
          "user": {
            "displayName": "Vishesh Arora",
            "userId": "03641027679675836287"
          }
        },
        "outputId": "03dfcff0-9bdb-44a2-ab84-0a9cdbeb795e",
        "noteable": {
          "output_collection_id": "e56c8e56-89aa-4bec-9347-1e63cebb8441"
        }
      },
      "outputs": [],
      "source": [
        "print(\"hello\")"
      ]
    },
    {
      "cell_type": "code",
      "source": [],
      "metadata": {
        "id": "CCxJoZXy_fJ4"
      },
      "id": "CCxJoZXy_fJ4",
      "execution_count": null,
      "outputs": []
    }
  ],
  "metadata": {
    "kernel_info": {
      "name": "python3"
    },
    "kernelspec": {
      "display_name": "Python 3",
      "name": "python3"
    },
    "language_info": {
      "codemirror_mode": {
        "name": "ipython",
        "version": 3
      },
      "file_extension": ".py",
      "mimetype": "text/x-python",
      "name": "python",
      "nbconvert_exporter": "python",
      "pygments_lexer": "ipython3",
      "version": "3.9.12"
    },
    "noteable": {
      "last_delta_id": "894f1459-6f7b-4e3f-9cf2-f2067924492b",
      "last_transaction_id": "f1240ce6-7282-4095-9216-3732852a56db"
    },
    "nteract": {
      "version": "noteable@2.9.0"
    },
    "selected_hardware_size": "medium-gpu",
    "colab": {
      "provenance": [],
      "gpuType": "T4"
    },
    "accelerator": "GPU"
  },
  "nbformat": 4,
  "nbformat_minor": 5
}