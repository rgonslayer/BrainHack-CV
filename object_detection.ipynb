{
  "cells": [
    {
      "cell_type": "code",
      "source": [
        "!git clone https://github.com/ultralytics/yolov5.git\n"
      ],
      "outputs": [],
      "execution_count": null,
      "metadata": {
        "noteable": {
          "output_collection_id": "33ecb019-06e0-4810-85c8-4e89bedb629c"
        },
        "ExecuteTime": {
          "end_time": "2023-06-01T09:52:10.423187+00:00",
          "start_time": "2023-06-01T09:52:09.435045+00:00"
        }
      },
      "id": "bd7d4587"
    },
    {
      "cell_type": "code",
      "source": [
        "!ls"
      ],
      "outputs": [],
      "execution_count": null,
      "metadata": {
        "jupyter": {
          "outputs_hidden": false,
          "source_hidden": false
        },
        "noteable": {
          "cell_type": "code",
          "output_collection_id": "318f91a0-3d6e-4b05-adab-92c9368c3d99"
        },
        "ExecuteTime": {
          "end_time": "2023-06-01T09:52:11.408900+00:00",
          "start_time": "2023-06-01T09:52:10.432593+00:00"
        },
        "scrolled": false
      },
      "id": "ccdf6088-ae8e-42b6-b6cf-e71e6043cc70"
    },
    {
      "cell_type": "code",
      "source": "%ntbl pull datasets \"BrainHack TIL-23 OD _ ReID Advanced\"",
      "outputs": [],
      "execution_count": null,
      "metadata": {
        "jupyter": {
          "outputs_hidden": false,
          "source_hidden": false
        },
        "noteable": {
          "cell_type": "code",
          "output_collection_id": "95fb4a2c-f12e-4998-bfa8-4bf5cb8b5cc8"
        },
        "ExecuteTime": {
          "end_time": "2023-06-01T09:54:32.164901+00:00",
          "start_time": "2023-06-01T09:52:11.416097+00:00"
        }
      },
      "id": "a9506104-d56e-4026-ae09-cf810991fb80"
    },
    {
      "cell_type": "code",
      "source": "!unzip \"../../datasets/BrainHack TIL-23 OD _ ReID Advanced Hackathon/train.zip\" -d \"/tmp/train_images\"\n\n!unzip \"../../datasets/BrainHack TIL-23 OD _ ReID Advanced Hackathon/train_labels.zip\" -d \"/tmp/train_labels\"\n\n!unzip \"../../datasets/BrainHack TIL-23 OD _ ReID Advanced Hackathon/val.zip\" -d \"/tmp/val_images\"\n\n!unzip \"../../datasets/BrainHack TIL-23 OD _ ReID Advanced Hackathon/val_labels.zip\" -d \"/tmp/val_labels\"",
      "outputs": [],
      "execution_count": null,
      "metadata": {
        "jupyter": {
          "outputs_hidden": false,
          "source_hidden": false
        },
        "noteable": {
          "cell_type": "code",
          "output_collection_id": "d8f171cf-71a3-41f1-bf33-6a8ae7102b70"
        },
        "ExecuteTime": null,
        "scrolled": false
      },
      "id": "6bf8195a-6430-422b-9248-29177baeb709"
    },
    {
      "cell_type": "code",
      "source": "!ls /tmp/val_labels\n\n",
      "outputs": [],
      "execution_count": null,
      "metadata": {
        "jupyter": {
          "outputs_hidden": true,
          "source_hidden": false
        },
        "noteable": {
          "cell_type": "code",
          "output_collection_id": "9be499de-df6f-4fd8-97c1-de685b566424"
        },
        "ExecuteTime": {
          "end_time": "2023-06-01T09:25:27.312778+00:00",
          "start_time": "2023-06-01T09:25:26.349699+00:00"
        }
      },
      "id": "caa70433-8050-4ee4-b8d7-59e9c123f9d6"
    },
    {
      "cell_type": "code",
      "source": [
        "!mkdir yolov5/custom_dataset"
      ],
      "outputs": [],
      "execution_count": null,
      "metadata": {
        "jupyter": {
          "outputs_hidden": true,
          "source_hidden": false
        },
        "noteable": {
          "cell_type": "code",
          "output_collection_id": "8faae9fc-2f7e-4666-9470-9cf0b1acd263"
        },
        "ExecuteTime": {
          "end_time": "2023-06-01T09:25:28.282389+00:00",
          "start_time": "2023-06-01T09:25:27.319779+00:00"
        }
      },
      "id": "20e80dc3-9a75-44ad-aeba-6328dcdff379"
    },
    {
      "cell_type": "code",
      "source": [
        "!mkdir yolov5/custom_dataset/images"
      ],
      "outputs": [],
      "execution_count": null,
      "metadata": {
        "jupyter": {
          "outputs_hidden": false,
          "source_hidden": false
        },
        "noteable": {
          "cell_type": "code",
          "output_collection_id": "59669bee-add7-4a22-a84a-fae2cc32fffb"
        },
        "ExecuteTime": {
          "end_time": "2023-06-01T09:25:29.236241+00:00",
          "start_time": "2023-06-01T09:25:28.290292+00:00"
        }
      },
      "id": "8f2801f8-4eaa-495e-b814-043be802a359"
    },
    {
      "cell_type": "code",
      "source": [
        "!mkdir yolov5/custom_dataset/images/train\n",
        "!mkdir yolov5/custom_dataset/images/val"
      ],
      "outputs": [],
      "execution_count": null,
      "metadata": {
        "jupyter": {
          "outputs_hidden": false,
          "source_hidden": false
        },
        "noteable": {
          "cell_type": "code",
          "output_collection_id": "0fa0967a-a113-4aad-9bc9-cc570cc59bdf"
        },
        "ExecuteTime": {
          "end_time": "2023-06-01T09:25:31.001757+00:00",
          "start_time": "2023-06-01T09:25:29.242793+00:00"
        }
      },
      "id": "b5f4bc71-dbf0-4b75-bd89-5952cc34e0a0"
    },
    {
      "cell_type": "code",
      "source": "!ls yolov5/custom_dataset/labels/train",
      "outputs": [],
      "execution_count": null,
      "metadata": {
        "jupyter": {
          "outputs_hidden": true,
          "source_hidden": false
        },
        "noteable": {
          "cell_type": "code",
          "output_collection_id": "bab2a9fe-8018-4c78-86f6-0ec5abe69ae6"
        },
        "ExecuteTime": {
          "end_time": "2023-06-01T09:25:32.000867+00:00",
          "start_time": "2023-06-01T09:25:31.009875+00:00"
        }
      },
      "id": "13ccc316-b888-41e3-bcac-da40ecf0ca75"
    },
    {
      "cell_type": "code",
      "source": [
        "!mkdir yolov5/custom_dataset/labels\n",
        "!mkdir yolov5/custom_dataset/labels/train\n",
        "!mkdir yolov5/custom_dataset/labels/val"
      ],
      "outputs": [],
      "execution_count": null,
      "metadata": {
        "jupyter": {
          "outputs_hidden": false,
          "source_hidden": false
        },
        "noteable": {
          "cell_type": "code",
          "output_collection_id": "371e6607-27fc-481b-bd63-0edd41716e07"
        },
        "ExecuteTime": {
          "end_time": "2023-06-01T09:25:34.535146+00:00",
          "start_time": "2023-06-01T09:25:32.007867+00:00"
        }
      },
      "id": "d5c17827-ed02-457d-9fa3-1abdf27852bb"
    },
    {
      "cell_type": "code",
      "source": "!cp object_detection/reannotate.py yolov5/custom_dataset\n!cp object_detection/generate_path.py yolov5/custom_dataset\n!cp object_detection/classes.names yolov5/custom_dataset",
      "outputs": [],
      "execution_count": null,
      "metadata": {
        "jupyter": {
          "outputs_hidden": false,
          "source_hidden": false
        },
        "noteable": {
          "cell_type": "code",
          "output_collection_id": "fb338f13-cf8f-4631-b98b-64447c76b455"
        },
        "ExecuteTime": {
          "end_time": "2023-06-01T09:25:37.093685+00:00",
          "start_time": "2023-06-01T09:25:34.541348+00:00"
        }
      },
      "id": "6ef131c6-d9b8-46e3-a4c5-e88512eaadb7"
    },
    {
      "cell_type": "code",
      "source": "!cp object_detection/custom.yaml yolov5/data",
      "outputs": [],
      "execution_count": null,
      "metadata": {
        "jupyter": {
          "outputs_hidden": false,
          "source_hidden": false
        },
        "noteable": {
          "cell_type": "code",
          "output_collection_id": "44858189-3404-4b0d-bd67-699ff52d3903"
        },
        "ExecuteTime": {
          "end_time": "2023-06-01T09:25:38.050517+00:00",
          "start_time": "2023-06-01T09:25:37.099130+00:00"
        }
      },
      "id": "970dbe46-f8ee-46dc-af40-85d3bb7b5cfa"
    },
    {
      "cell_type": "code",
      "source": [
        "!pip install -r yolov5/requirements.txt"
      ],
      "outputs": [],
      "execution_count": null,
      "metadata": {
        "jupyter": {
          "outputs_hidden": true,
          "source_hidden": false
        },
        "noteable": {
          "cell_type": "code",
          "output_collection_id": "dd741597-a5cc-49a0-9fb3-77f5caca4adc"
        },
        "ExecuteTime": {
          "end_time": "2023-06-01T09:26:27.660128+00:00",
          "start_time": "2023-06-01T09:25:38.238905+00:00"
        }
      },
      "id": "1be09ee3-ec20-4fbc-a081-e2b9f4389bdd"
    },
    {
      "cell_type": "code",
      "source": [
        "!pip install pandas==1.5.3\n",
        "!pip install tqdm==4.65"
      ],
      "outputs": [],
      "execution_count": null,
      "metadata": {
        "jupyter": {
          "source_hidden": false,
          "outputs_hidden": true
        },
        "noteable": {
          "cell_type": "code",
          "output_collection_id": "e54138aa-9d40-4a6b-a8ef-fc9486835ddf"
        },
        "ExecuteTime": {
          "end_time": "2023-06-01T09:26:42.473087+00:00",
          "start_time": "2023-06-01T09:26:27.665885+00:00"
        }
      },
      "id": "d747c577-f0a0-431a-998e-6df27111fd49"
    },
    {
      "cell_type": "code",
      "source": [
        "!pip list"
      ],
      "outputs": [],
      "execution_count": null,
      "metadata": {
        "jupyter": {
          "source_hidden": false,
          "outputs_hidden": true
        },
        "noteable": {
          "cell_type": "code",
          "output_collection_id": "abb1b2db-a6d1-450d-884b-777033091e6f"
        },
        "ExecuteTime": {
          "end_time": "2023-06-01T09:26:44.432894+00:00",
          "start_time": "2023-06-01T09:26:42.478464+00:00"
        }
      },
      "id": "3af59f97-a52d-4fc2-ac6f-e5e7e0e30572"
    },
    {
      "cell_type": "code",
      "source": "!cp -r /tmp/train_images/. yolov5/custom_dataset/images/train",
      "outputs": [],
      "execution_count": null,
      "metadata": {
        "jupyter": {
          "outputs_hidden": false,
          "source_hidden": false
        },
        "noteable": {
          "cell_type": "code",
          "output_collection_id": "037a6bb0-8452-45bd-afb0-84f7ed4123a0"
        },
        "ExecuteTime": {
          "end_time": "2023-06-01T09:26:50.617141+00:00",
          "start_time": "2023-06-01T09:26:44.439746+00:00"
        }
      },
      "id": "3b617f54-a798-4139-9fe2-95e80ce353fb"
    },
    {
      "cell_type": "code",
      "source": [
        "!cp -r /tmp/val_images/. yolov5/custom_dataset/images/val"
      ],
      "outputs": [],
      "execution_count": null,
      "metadata": {
        "jupyter": {
          "outputs_hidden": false,
          "source_hidden": false
        },
        "noteable": {
          "cell_type": "code",
          "output_collection_id": "9b706f1e-53ec-4a79-8896-2d30cb77644b"
        },
        "ExecuteTime": {
          "end_time": "2023-06-01T09:26:54.294110+00:00",
          "start_time": "2023-06-01T09:26:50.622300+00:00"
        }
      },
      "id": "d9f41682-dc70-4356-b8a2-68a38247ce6a"
    },
    {
      "cell_type": "code",
      "source": [
        "!cp -r /tmp/val_labels/. yolov5/custom_dataset/labels/val"
      ],
      "outputs": [],
      "execution_count": null,
      "metadata": {
        "jupyter": {
          "outputs_hidden": false,
          "source_hidden": false
        },
        "noteable": {
          "cell_type": "code",
          "output_collection_id": "36b8f9cf-674d-473d-ad6f-48d6d9ab85c6"
        },
        "ExecuteTime": {
          "end_time": "2023-06-01T09:26:55.262817+00:00",
          "start_time": "2023-06-01T09:26:54.300668+00:00"
        }
      },
      "id": "36bce41e-3b4b-4d09-ad2c-f1238c4bd2b1"
    },
    {
      "id": "657d5f06-ef99-4d41-b9bd-48cd1bb1eaab",
      "cell_type": "code",
      "metadata": {
        "jupyter": {
          "outputs_hidden": false,
          "source_hidden": false
        },
        "noteable": {
          "cell_type": "code",
          "output_collection_id": "468ae231-b3d1-4f1c-951c-f60779962701"
        },
        "ExecuteTime": {
          "end_time": "2023-06-01T09:26:56.436090+00:00",
          "start_time": "2023-06-01T09:26:55.268319+00:00"
        }
      },
      "execution_count": null,
      "source": "!cp -r /tmp/train_labels/. yolov5/custom_dataset/labels/train",
      "outputs": []
    },
    {
      "cell_type": "code",
      "source": "!ls yolov5/custom_dataset/labels/train\n",
      "outputs": [],
      "execution_count": null,
      "metadata": {
        "jupyter": {
          "source_hidden": false,
          "outputs_hidden": true
        },
        "noteable": {
          "cell_type": "code",
          "output_collection_id": "4d295ab7-fb13-49c0-832a-459e7e920bfb"
        },
        "ExecuteTime": {
          "end_time": "2023-06-01T09:26:57.416801+00:00",
          "start_time": "2023-06-01T09:26:56.443575+00:00"
        }
      },
      "id": "821ef3e6-85f6-466c-ae3f-b696d8055786"
    },
    {
      "cell_type": "code",
      "source": "!python3 object_detection/reannotate.py",
      "outputs": [],
      "execution_count": null,
      "metadata": {
        "jupyter": {
          "outputs_hidden": false,
          "source_hidden": false
        },
        "noteable": {
          "cell_type": "code",
          "output_collection_id": "8ccc18ec-197d-4c1f-af91-cd26faa262b7"
        },
        "ExecuteTime": {
          "end_time": "2023-06-01T09:27:12.800465+00:00",
          "start_time": "2023-06-01T09:26:57.428373+00:00"
        },
        "scrolled": false
      },
      "id": "bac24d84-dfcf-4617-983f-1261f1a8e57d"
    },
    {
      "cell_type": "code",
      "source": [
        "!ls yolov5/custom_dataset/images/train/"
      ],
      "outputs": [],
      "execution_count": null,
      "metadata": {
        "jupyter": {
          "outputs_hidden": true,
          "source_hidden": false
        },
        "noteable": {
          "cell_type": "code",
          "output_collection_id": "3582aa34-d237-4f2e-834a-b83493714d70"
        },
        "ExecuteTime": {
          "end_time": "2023-06-01T09:27:14.268143+00:00",
          "start_time": "2023-06-01T09:27:13.288436+00:00"
        }
      },
      "id": "6fdeffba-b390-4fb3-a852-bb42fa90cfa2"
    },
    {
      "cell_type": "code",
      "source": [
        "!ls yolov5/custom_dataset/images/val/"
      ],
      "outputs": [],
      "execution_count": null,
      "metadata": {
        "jupyter": {
          "outputs_hidden": true,
          "source_hidden": false
        },
        "noteable": {
          "cell_type": "code",
          "output_collection_id": "d7cf9651-92d2-4384-a4cf-1d3477de4bf6"
        },
        "ExecuteTime": {
          "end_time": "2023-06-01T09:27:15.271371+00:00",
          "start_time": "2023-06-01T09:27:14.275465+00:00"
        }
      },
      "id": "8027a35e-64ee-43c5-a125-f34aa58bbfb9"
    },
    {
      "cell_type": "code",
      "source": [
        "!cat yolov5/custom_dataset/labels/val/image_0787.txt"
      ],
      "outputs": [],
      "execution_count": null,
      "metadata": {
        "jupyter": {
          "source_hidden": false,
          "outputs_hidden": false
        },
        "noteable": {
          "cell_type": "code",
          "output_collection_id": "5555f03e-cd47-4a87-86a5-7af6b9f21b28"
        },
        "ExecuteTime": {
          "end_time": "2023-06-01T09:27:16.257545+00:00",
          "start_time": "2023-06-01T09:27:15.276550+00:00"
        }
      },
      "id": "ba971341-4e2c-481b-a09f-9d821f42ffb2"
    },
    {
      "id": "7c4f7679-90b0-4645-b027-6f3520ffc512",
      "cell_type": "code",
      "metadata": {
        "jupyter": {
          "outputs_hidden": false,
          "source_hidden": false
        },
        "noteable": {
          "cell_type": "code",
          "output_collection_id": "5c95a70e-97f9-41c6-89a6-3aafccb7398a"
        },
        "ExecuteTime": {
          "end_time": "2023-06-01T09:27:17.213872+00:00",
          "start_time": "2023-06-01T09:27:16.264247+00:00"
        }
      },
      "execution_count": null,
      "source": "!cat yolov5/custom_dataset/labels/val/image_5664.txt",
      "outputs": []
    },
    {
      "cell_type": "code",
      "source": "!cat yolov5/custom_dataset/labels/val/image_0785.txt",
      "outputs": [],
      "execution_count": null,
      "metadata": {
        "jupyter": {
          "outputs_hidden": false,
          "source_hidden": false
        },
        "noteable": {
          "cell_type": "code",
          "output_collection_id": "b422b56a-cf65-4ed2-9f5a-11cefccef2b2"
        },
        "ExecuteTime": {
          "end_time": "2023-06-01T09:27:18.170753+00:00",
          "start_time": "2023-06-01T09:27:17.220521+00:00"
        }
      },
      "id": "e03c1652-018d-401e-9907-6eb3ac6eea24"
    },
    {
      "cell_type": "code",
      "source": [
        "!python3 yolov5/custom_dataset/generate_path.py"
      ],
      "outputs": [],
      "execution_count": null,
      "metadata": {
        "jupyter": {
          "outputs_hidden": false,
          "source_hidden": false
        },
        "noteable": {
          "cell_type": "code",
          "output_collection_id": "a41416ee-10c7-4570-a3e9-5b6bd728ba4b"
        },
        "ExecuteTime": {
          "end_time": "2023-06-01T09:27:19.554933+00:00",
          "start_time": "2023-06-01T09:27:18.565236+00:00"
        }
      },
      "id": "0bcd51ff-77cf-4ad2-ac44-75643c1de77f"
    },
    {
      "cell_type": "code",
      "source": [
        "!ls yolov5/custom_dataset/"
      ],
      "outputs": [],
      "execution_count": null,
      "metadata": {
        "jupyter": {
          "outputs_hidden": false,
          "source_hidden": false
        },
        "noteable": {
          "cell_type": "code",
          "output_collection_id": "2ff47c1e-022a-4849-abd8-81fb08cc5a3d"
        },
        "ExecuteTime": {
          "end_time": "2023-06-01T09:27:20.789652+00:00",
          "start_time": "2023-06-01T09:27:19.814756+00:00"
        }
      },
      "id": "b26c018f-8f0b-4418-95a5-14498836b383"
    },
    {
      "cell_type": "code",
      "source": "!ls yolov5",
      "outputs": [],
      "execution_count": null,
      "metadata": {
        "jupyter": {
          "outputs_hidden": false,
          "source_hidden": false
        },
        "noteable": {
          "cell_type": "code",
          "output_collection_id": "fa4c5854-602a-49e0-8c35-6f18fbc6ac8b"
        },
        "ExecuteTime": {
          "end_time": "2023-06-01T09:27:21.750066+00:00",
          "start_time": "2023-06-01T09:27:20.804106+00:00"
        }
      },
      "id": "7d9a8553-2c57-4475-80c6-447b1c2b8522"
    },
    {
      "cell_type": "code",
      "source": [
        "!cat train.txt"
      ],
      "outputs": [],
      "execution_count": null,
      "metadata": {
        "jupyter": {
          "outputs_hidden": true,
          "source_hidden": false
        },
        "noteable": {
          "cell_type": "code",
          "output_collection_id": "28ffa8e7-a170-4dc0-9cb7-f2a51b0e1e7a"
        },
        "ExecuteTime": {
          "end_time": "2023-06-01T09:27:22.759301+00:00",
          "start_time": "2023-06-01T09:27:21.758319+00:00"
        }
      },
      "id": "726252aa-c043-49e8-a423-69548d219d4c"
    },
    {
      "cell_type": "code",
      "source": [
        "!head -n -1 train.txt >: train.txt"
      ],
      "outputs": [],
      "execution_count": null,
      "metadata": {
        "jupyter": {
          "outputs_hidden": false,
          "source_hidden": false
        },
        "noteable": {
          "cell_type": "code",
          "output_collection_id": "320a8c13-10d2-4816-9f20-7a8cfd3613d6"
        },
        "ExecuteTime": {
          "end_time": "2023-06-01T09:27:24.245464+00:00",
          "start_time": "2023-06-01T09:27:23.216645+00:00"
        }
      },
      "id": "82a441e1-b6be-416f-9d4d-17b57bda9c45"
    },
    {
      "cell_type": "code",
      "source": [
        "!cp train.txt yolov5/custom_dataset\n",
        "!cp val.txt yolov5/custom_dataset"
      ],
      "outputs": [],
      "execution_count": null,
      "metadata": {
        "jupyter": {
          "outputs_hidden": false,
          "source_hidden": false
        },
        "noteable": {
          "cell_type": "code",
          "output_collection_id": "c386a35f-ba57-4578-b37b-4373179ca075"
        },
        "ExecuteTime": {
          "end_time": "2023-06-01T09:27:25.970791+00:00",
          "start_time": "2023-06-01T09:27:24.251501+00:00"
        }
      },
      "id": "2f12a050-b1bf-4257-b22d-e71528674166"
    },
    {
      "cell_type": "code",
      "source": [
        "!cp yolov5s.pt yolov5/"
      ],
      "outputs": [],
      "execution_count": null,
      "metadata": {
        "jupyter": {
          "outputs_hidden": false,
          "source_hidden": false
        },
        "noteable": {
          "cell_type": "code",
          "output_collection_id": "20b8cab7-74f2-467f-afe2-f270d16f3f16"
        },
        "ExecuteTime": {
          "end_time": "2023-06-01T09:27:26.945045+00:00",
          "start_time": "2023-06-01T09:27:25.995435+00:00"
        }
      },
      "id": "fe4157fd-e0fa-4ee6-933d-dbb924afad42"
    },
    {
      "cell_type": "code",
      "source": "!python yolov5/train.py --img 640 --epochs 10 --data custom.yaml --weights yolov5s.pt --batch-size 10 --workers 4\n",
      "outputs": [],
      "execution_count": null,
      "metadata": {
        "jupyter": {
          "outputs_hidden": false,
          "source_hidden": false
        },
        "noteable": {
          "cell_type": "code",
          "output_collection_id": "694c764e-a1a5-4476-9483-eb3580b45b35"
        },
        "ExecuteTime": {
          "end_time": "2023-06-01T09:52:06.451492+00:00",
          "start_time": "2023-06-01T09:27:26.950674+00:00"
        }
      },
      "id": "f5fbc524-bb74-46b7-959f-56add6878596"
    },
    {
      "cell_type": "code",
      "source": "!ls -a yolov5/runs/train/exp/weights",
      "outputs": [],
      "execution_count": null,
      "metadata": {
        "jupyter": {
          "outputs_hidden": false,
          "source_hidden": false
        },
        "noteable": {
          "cell_type": "code",
          "output_collection_id": "d5e266b3-4e96-4067-89ce-56452440ec0d"
        },
        "ExecuteTime": {
          "end_time": "2023-06-01T09:52:07.479315+00:00",
          "start_time": "2023-06-01T09:52:06.456962+00:00"
        }
      },
      "id": "14d76fc1-d4fe-4eb5-ab07-95a004c04d9f"
    },
    {
      "cell_type": "code",
      "source": "!cp yolov5/runs/train/exp/weights/best.pt /etc/noteable/project/",
      "outputs": [],
      "execution_count": null,
      "metadata": {
        "jupyter": {
          "source_hidden": false,
          "outputs_hidden": false
        },
        "noteable": {
          "cell_type": "code",
          "output_collection_id": "801aaa34-c5ea-49ff-8e44-b79903d61a5f"
        },
        "ExecuteTime": {
          "end_time": "2023-06-01T09:52:08.459935+00:00",
          "start_time": "2023-06-01T09:52:07.484889+00:00"
        }
      },
      "id": "fac76191-59a3-43be-98af-08edb0d45a41"
    },
    {
      "cell_type": "code",
      "source": [
        "ls /etc/noteable/project/"
      ],
      "outputs": [],
      "execution_count": null,
      "metadata": {
        "jupyter": {
          "source_hidden": false,
          "outputs_hidden": false
        },
        "noteable": {
          "cell_type": "code",
          "output_collection_id": "4b49ff33-33a6-428b-a1e6-682e7304d04a"
        },
        "ExecuteTime": {
          "end_time": "2023-06-01T09:52:09.425294+00:00",
          "start_time": "2023-06-01T09:52:08.465537+00:00"
        }
      },
      "id": "91041cf4-712f-4bad-bc6d-1bd9350e9c36"
    }
  ],
  "metadata": {
    "selected_hardware_size": "medium-gpu",
    "noteable": {
      "last_transaction_id": "8c609cdc-7415-4018-b44a-351b0b74613b",
      "last_delta_id": "8cb75654-a749-4a05-b00f-9c1180b7f288"
    },
    "kernel_info": {
      "name": "python3"
    },
    "kernelspec": {
      "display_name": "Python 3 (ipykernel)",
      "language": "python",
      "name": "python3"
    },
    "nteract": {
      "version": "noteable@2.9.0"
    }
  },
  "nbformat": 4,
  "nbformat_minor": 5
}